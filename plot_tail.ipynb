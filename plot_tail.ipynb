{
 "cells": [
  {
   "cell_type": "code",
   "execution_count": 81,
   "metadata": {},
   "outputs": [],
   "source": [
    "import numpy as np\n",
    "import rasterio\n",
    "import matplotlib.pyplot as plt\n",
    "import powerlaw as pl\n",
    "import matplotlib.ticker as ticker\n",
    "\n",
    "from osgeo import gdal\n",
    "\n",
    "def head_tail_breaks(array, break_per=0.4):\n",
    "    \n",
    "    rats, cuts = [], []\n",
    "    rat_in_head, head_mean, ht_index = 0, 0, 1\n",
    "    \n",
    "    base = np.zeros(np.shape(array)).astype(np.int8)\n",
    "    image = np.copy(array)\n",
    "    array = np.ravel(array)\n",
    "    idx = np.where(array == -1)\n",
    "    array = np.delete(array, idx)\n",
    "    \n",
    "    while (rat_in_head <= break_per) and (len(array) >1) and np.mean(array) > 0:\n",
    "\n",
    "        mean = np.mean(array)\n",
    "        # print(mean)\n",
    "        cuts.append(mean)\n",
    "        \n",
    "        head_mean = array[array > mean]\n",
    "\n",
    "        count_total = len(array)\n",
    "        count_head_mean = len(head_mean)\n",
    "\n",
    "        rat = count_head_mean / count_total\n",
    "        rats.append(rat)\n",
    "\n",
    "        if rat_in_head == 0:\n",
    "            rat_in_head = rat\n",
    "        else:\n",
    "            rat_in_head = np.mean(rats)\n",
    "\n",
    "        if rat_in_head < break_per:\n",
    "            ht_index += 1\n",
    "        array = head_mean\n",
    "\n",
    "    cn_list = cuts[0:-1]\n",
    "    print(cn_list)\n",
    "    del array\n",
    "    \n",
    "    for i, m in enumerate(cn_list):\n",
    "        \n",
    "        if i==len(cn_list)-1:\n",
    "            condition = (image >= m)\n",
    "\n",
    "        else:\n",
    "            condition = (image >= m) & (image < cn_list[i+1])\n",
    "        himg = np.where(condition, i+1, 0)\n",
    "        \n",
    "        base[himg!=0]=0\n",
    "        base = base + himg\n",
    "    \n",
    "    return ht_index, base"
   ]
  },
  {
   "cell_type": "code",
   "execution_count": 45,
   "metadata": {},
   "outputs": [],
   "source": [
    "image_path = r\"D:\\Data\\ChinaGDP-master\\Guangdong\\2014.tif\"\n",
    "output_path = r\"D:\\Data\\ChinaGDP-master\\Guangdong\\2014_ht.tif\"\n",
    "\n",
    "# 使用gdal读取文件\n",
    "dataset = gdal.Open(image_path)\n",
    "band = dataset.GetRasterBand(1)\n",
    "data = band.ReadAsArray()\n",
    "transform = dataset.GetGeoTransform()\n",
    "nodata_value = band.GetNoDataValue()\n",
    "data[data == nodata_value] = -1"
   ]
  },
  {
   "cell_type": "code",
   "execution_count": 86,
   "metadata": {},
   "outputs": [
    {
     "name": "stdout",
     "output_type": "stream",
     "text": [
      "[36.7064, 384.68372, 1251.7068, 2736.2048, 4617.775, 6593.99, 8292.337, 9183.857, 9458.413, 9685.321, 9806.7295]\n"
     ]
    }
   ],
   "source": [
    "ht, htimg = head_tail_breaks(data)\n",
    "htimg += 1\n",
    "htimg[data == -1] = -1"
   ]
  },
  {
   "cell_type": "code",
   "execution_count": 95,
   "metadata": {},
   "outputs": [],
   "source": [
    "ht_arr = np.ravel(htimg)\n",
    "idx = np.where(ht_arr == -1)\n",
    "ht_arr = np.delete(ht_arr, idx)\n",
    "ht_arr = np.sort(ht_arr)[::-1]\n",
    "\n",
    "arr_1d = np.ravel(data)\n",
    "idx = np.where(arr_1d == -1)\n",
    "arr_1d = np.delete(arr_1d, idx)\n",
    "arr_1d = np.sort(arr_1d)[::-1]\n",
    "\n",
    "# Calculate ranks and sort data\n",
    "ranks = np.arange(0, len(arr_1d))\n",
    "values = np.sort(arr_1d)[::-1]/1000 + 0.2"
   ]
  },
  {
   "cell_type": "code",
   "execution_count": 97,
   "metadata": {},
   "outputs": [
    {
     "data": {
      "image/png": "[encoded data removed]",
      "text/plain": [
       "<Figure size 850x180 with 1 Axes>"
      ]
     },
     "metadata": {},
     "output_type": "display_data"
    }
   ],
   "source": [
    "stride = 1\n",
    "\n",
    "# Create the rank-size plot\n",
    "plt.rcParams.update({'font.size': 8})\n",
    "\n",
    "fig, ax = plt.subplots(figsize=(8.5, 1.8))\n",
    "\n",
    "ax.scatter(ranks[::stride], values[::stride], alpha=0.1, s=1, c='gray')\n",
    "\n",
    "# 获取不同 y 值对应的颜色\n",
    "colors = [(1, 0, 0), (1, 0, 0), (1, 0, 0), \n",
    "          (1, 0, 0), (1, 0, 0), (1, 0, 0),\n",
    "          (1, 0, 0), (1, 0, 0), (1, 150/255, 0), \n",
    "          (255/255, 230/255, 0/255), (0, 150/255, 1), (0, 0, 1)][::-1]\n",
    "\n",
    "for y_val, color in zip(np.unique(ht_arr), colors):\n",
    "    mask = (ht_arr[::stride] == y_val)\n",
    "    ax.scatter(ranks[::stride][mask], ht_arr[::stride][mask], alpha=1, color=color, s=10, label=f'Y={y_val}', marker='.')\n",
    "\n",
    "\n",
    "ax.set_xlim(0, 191000)\n",
    "ax.set_ylim(0, 13)\n",
    "\n",
    "# Set axis and grid properties (unchanged from your code)\n",
    "# ax.yaxis.set_major_formatter(ticker.ScalarFormatter(useMathText=True))\n",
    "# ax.yaxis.get_major_formatter().set_scientific(True)\n",
    "# ax.yaxis.get_major_formatter().set_powerlimits((0, 0))\n",
    "# ax.spines['bottom'].set_visible(False)\n",
    "\n",
    "# ax.xaxis.set_major_formatter(ticker.ScalarFormatter(useMathText=True))\n",
    "# ax.xaxis.get_major_formatter().set_scientific(True)\n",
    "# ax.xaxis.get_major_formatter().set_powerlimits((0, 0))\n",
    "\n",
    "# 设置轴的颜色\n",
    "ax.tick_params(axis='both', colors=(0.5, 0.5, 0.5, 0.5))\n",
    "ax.spines['left'].set_color((0.5, 0.5, 0.5, 0.5))\n",
    "ax.spines['bottom'].set_color((0.5, 0.5, 0.5, 0.5))\n",
    "\n",
    "# 移除右侧和上侧的框线\n",
    "ax.spines['right'].set_visible(False)\n",
    "ax.spines['top'].set_visible(False)\n",
    "\n",
    "# 只保留左侧和下侧的网格线\n",
    "ax.yaxis.grid(True, linestyle='-', color=(0.5, 0.5, 0.5), alpha=0.5)\n",
    "\n",
    "# Title\n",
    "plt.title('Rank-Size Plot for LR of JS', color='gray', fontsize=8)\n",
    "\n",
    "# Add legend\n",
    "# ax.legend()\n",
    "# ht_arr.min()\n",
    "plt.show()"
   ]
  },
  {
   "cell_type": "code",
   "execution_count": 126,
   "metadata": {},
   "outputs": [
    {
     "data": {
      "image/png": "[encoded data removed]",
      "text/plain": [
       "<Figure size 150x120 with 1 Axes>"
      ]
     },
     "metadata": {},
     "output_type": "display_data"
    }
   ],
   "source": [
    "i = 8\n",
    "\n",
    "# Create the rank-size plot\n",
    "plt.rcParams.update({'font.size': 8})\n",
    "\n",
    "fig, ax = plt.subplots(figsize=(1.5, 1.2))\n",
    "\n",
    "ax.hist(data[htimg==i], color=colors[i-1], bins=20, alpha=0.8, density=True)\n",
    "\n",
    "# 设置轴的颜色\n",
    "ax.tick_params(axis='both', colors=(0.5, 0.5, 0.5, 0.5))\n",
    "ax.spines['left'].set_color((0.5, 0.5, 0.5, 0.5))\n",
    "ax.spines['bottom'].set_color((0.5, 0.5, 0.5, 0.5))\n",
    "\n",
    "# 移除右侧和上侧的框线\n",
    "ax.spines['right'].set_visible(False)\n",
    "ax.spines['top'].set_visible(False)\n",
    "\n",
    "ax.yaxis.set_major_formatter(ticker.ScalarFormatter(useMathText=True))\n",
    "ax.yaxis.get_major_formatter().set_scientific(True)\n",
    "ax.yaxis.get_major_formatter().set_powerlimits((0, 0))\n",
    "\n",
    "plt.show()\n"
   ]
  }
 ],
 "metadata": {
  "kernelspec": {
   "display_name": "livingimage",
   "language": "python",
   "name": "python3"
  },
  "language_info": {
   "codemirror_mode": {
    "name": "ipython",
    "version": 3
   },
   "file_extension": ".py",
   "mimetype": "text/x-python",
   "name": "python",
   "nbconvert_exporter": "python",
   "pygments_lexer": "ipython3",
   "version": "0.0.0"
  }
 },
 "nbformat": 4,
 "nbformat_minor": 2
}
